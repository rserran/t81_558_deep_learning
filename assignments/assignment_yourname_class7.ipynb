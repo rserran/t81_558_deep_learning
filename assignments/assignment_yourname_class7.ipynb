{
 "cells": [
  {
   "cell_type": "markdown",
   "metadata": {
    "id": "XKzF6dMaiLyP"
   },
   "source": [
    "<a href=\"https://colab.research.google.com/github/jeffheaton/t81_558_deep_learning/blob/master/assignments/assignment_yourname_class7.ipynb\" target=\"_parent\"><img src=\"https://colab.research.google.com/assets/colab-badge.svg\" alt=\"Open In Colab\"/></a>"
   ]
  },
  {
   "cell_type": "markdown",
   "metadata": {
    "id": "YDTXd8-Lmp8Q"
   },
   "source": [
    "# T81-558: Applications of Deep Neural Networks\n",
    "* Instructor: [Jeff Heaton](https://sites.wustl.edu/jeffheaton/), School of Engineering and Applied Science, [Washington University in St. Louis](https://engineering.wustl.edu/Programs/Pages/default.aspx)\n",
    "* For more information visit the [class website](https://sites.wustl.edu/jeffheaton/t81-558/).\n",
    "\n",
    "**Module 7 Assignment: Computer Vision Neural Network**\n",
    "\n",
    "**Student Name: Your Name**"
   ]
  },
  {
   "cell_type": "markdown",
   "metadata": {
    "id": "ncNrAEpzmp8S"
   },
   "source": [
    "# Google CoLab Instructions\n",
    "\n",
    "This assignment will be most straightforward if you use Google CoLab, because it requires both PyTorch and YOLOv5 to be installed. It will be necessary to mount your GDrive so that you can send your notebook during the submit process. Running the following code will map your GDrive to ```/content/drive```."
   ]
  },
  {
   "cell_type": "code",
   "execution_count": 1,
   "metadata": {
    "colab": {
     "base_uri": "https://localhost:8080/"
    },
    "id": "fU9UhAxTmp8S",
    "outputId": "99c816d0-9008-4595-9e50-7959769ecb46"
   },
   "outputs": [
    {
     "name": "stdout",
     "output_type": "stream",
     "text": [
      "Mounted at /content/drive\n",
      "Note: using Google CoLab\n"
     ]
    }
   ],
   "source": [
    "try:\n",
    "    from google.colab import drive\n",
    "    drive.mount('/content/drive', force_remount=True)\n",
    "    COLAB = True\n",
    "    print(\"Note: using Google CoLab\")\n",
    "except:\n",
    "    print(\"Note: not using Google CoLab\")\n",
    "    COLAB = False"
   ]
  },
  {
   "cell_type": "markdown",
   "metadata": {
    "id": "QSKZqD1Mmp-C"
   },
   "source": [
    "# Assignment Submit Function\n",
    "\n",
    "You will submit the 10 programming assignments electronically.  The following submit function can be used to do this.  My server will perform a basic check of each assignment and let you know if it sees any basic problems. \n",
    "\n",
    "**It is unlikely that should need to modify this function.**"
   ]
  },
  {
   "cell_type": "code",
   "execution_count": 2,
   "metadata": {
    "id": "7F2MhA7bjag8"
   },
   "outputs": [],
   "source": [
    "import base64\n",
    "import os\n",
    "import numpy as np\n",
    "import pandas as pd\n",
    "import requests\n",
    "import PIL\n",
    "import PIL.Image\n",
    "import io\n",
    "\n",
    "# This function submits an assignment.  You can submit an assignment as much as you like, only the final\n",
    "# submission counts.  The paramaters are as follows:\n",
    "# data - List of pandas dataframes or images.\n",
    "# key - Your student key that was emailed to you.\n",
    "# no - The assignment class number, should be 1 through 1.\n",
    "# source_file - The full path to your Python or IPYNB file.  This must have \"_class1\" as part of its name.  \n",
    "# .             The number must match your assignment number.  For example \"_class2\" for class assignment #2.\n",
    "def submit(data,key,no,source_file=None):\n",
    "    if source_file is None and '__file__' not in globals(): raise Exception('Must specify a filename when a Jupyter notebook.')\n",
    "    if source_file is None: source_file = __file__\n",
    "    suffix = '_class{}'.format(no)\n",
    "    if suffix not in source_file: raise Exception('{} must be part of the filename.'.format(suffix))\n",
    "    with open(source_file, \"rb\") as image_file:\n",
    "        encoded_python = base64.b64encode(image_file.read()).decode('ascii')\n",
    "    ext = os.path.splitext(source_file)[-1].lower()\n",
    "    if ext not in ['.ipynb','.py']: raise Exception(\"Source file is {} must be .py or .ipynb\".format(ext))\n",
    "    payload = []\n",
    "    for item in data:\n",
    "        if type(item) is PIL.Image.Image:\n",
    "            buffered = BytesIO()\n",
    "            item.save(buffered, format=\"PNG\")\n",
    "            payload.append({'PNG':base64.b64encode(buffered.getvalue()).decode('ascii')})\n",
    "        elif type(item) is pd.core.frame.DataFrame:\n",
    "            payload.append({'CSV':base64.b64encode(item.to_csv(index=False).encode('ascii')).decode(\"ascii\")})\n",
    "    r= requests.post(\"https://api.heatonresearch.com/assignment-submit\",\n",
    "        headers={'x-api-key':key}, json={ 'payload': payload,'assignment': no, 'ext':ext, 'py':encoded_python})\n",
    "    if r.status_code==200:\n",
    "        print(\"Success: {}\".format(r.text))\n",
    "    else: print(\"Failure: {}\".format(r.text))"
   ]
  },
  {
   "cell_type": "markdown",
   "metadata": {
    "id": "8fJKkSenqklH"
   },
   "source": [
    "# Assignment Instructions\n",
    "\n",
    "For this assignment, you will use YOLO running on Google CoLab.  I suggest that you run this assignment on CoLab because the example code below is already setup to get you started with the correct versions of  YOLO on TensorFlow 2.0.\n",
    "\n",
    "For this assignment you are provided with 10 image files that contain 10 different webcam pictures taken at the [Venice Sidewalk Cafe](https://www.westland.net/beachcam/) a WebCam that has been in opration since 1996.  You can find the 10 images here:\n",
    "\n",
    "* https://data.heatonresearch.com/data/t81-558/sidewalk/sidewalk1.jpg\n",
    "* https://data.heatonresearch.com/data/t81-558/sidewalk/sidewalk2.jpg\n",
    "* https://data.heatonresearch.com/data/t81-558/sidewalk/sidewalk3.jpg\n",
    "* https://data.heatonresearch.com/data/t81-558/sidewalk/sidewalk4.jpg\n",
    "* https://data.heatonresearch.com/data/t81-558/sidewalk/sidewalk5.jpg\n",
    "* https://data.heatonresearch.com/data/t81-558/sidewalk/sidewalk6.jpg\n",
    "* https://data.heatonresearch.com/data/t81-558/sidewalk/sidewalk7.jpg\n",
    "* https://data.heatonresearch.com/data/t81-558/sidewalk/sidewalk8.jpg\n",
    "* https://data.heatonresearch.com/data/t81-558/sidewalk/sidewalk9.jpg\n",
    "* https://data.heatonresearch.com/data/t81-558/sidewalk/sidewalk10.jpg\n",
    "\n",
    "You can see a sample of the WebCam here:\n",
    "\n",
    "![alt text](https://data.heatonresearch.com/data/t81-558/sidewalk/sidewalk1.jpg)\n",
    "\n",
    "YOLO does quite well-recognizing objects in this webcam, as the following image illustrates.\n",
    "\n",
    "![alt text](https://data.heatonresearch.com/data/t81-558/sidewalk/predictions.jpg)\n",
    "\n",
    "You are to write a script that counts the number of certain objects in each of the images.  Specifically, you are looking for:\n",
    "\n",
    "* person\n",
    "* car\n",
    "* bicycle\n",
    "* motorbike\n",
    "* umbrella\n",
    "* handbag\n",
    "\n",
    "It is essential that your use YOLO with a threshold of 10% if you want your results to match mine. The sample code below already contains this setting.  Your program can set this threshold with the following command.\n",
    "\n",
    "* conf_thres=0.1  # confidence threshold (use this value)\n",
    "* iou_thres=0.25  # NMS IOU threshold (use this value)\n",
    "\n",
    "Your submitted data frame should also contain a column that identifies which image generated each row.  This column should be named **image** and contain integer numbers between 1 and 10.  There should be 10 rows in total.  The complete data frame should look something like this (not necessarily exactly these numbers).\n",
    "\n",
    "|image|person|car|bicycle|motorbike|umbrella|handbag|\n",
    "|-|-|-|-|-|-|-|\n",
    "|1|23|0|3|4|0|0|\n",
    "|2|27|1|8|2|0|0|\n",
    "|3|29|0|0|0|3|0|\n",
    "|...|...|...|...|...|...|...|\n",
    "\n",
    "\n",
    "The following code sets up YOLO and then dumps the classification information for the first image.  This notebook only serves to get you started.  Read in all ten images and generate a data frame that looks like the following. Use the **submit** function as you did in previous assignments."
   ]
  },
  {
   "cell_type": "markdown",
   "metadata": {
    "id": "Ym5_juokofQl"
   },
   "source": [
    "### Installing YOLOv5\n",
    "\n",
    "YOLO is not available directly through either PIP or CONDA.  Additionally, YOLO is not installed in Google CoLab by default. Therefore, whether you wish to use YOLO through CoLab or run it locally, you need to go through several steps to install it.  This section describes the process of installing YOLO.  The same steps apply to either CoLab or a local install.  For CoLab, you must repeat these steps each time the system restarts your virtual environment.  You must perform these steps only once for your virtual Python environment for a local install.  If you are installing locally, make sure to install to the same virtual environment you created for this course.  The following commands install YOLO directly from its GitHub repository."
   ]
  },
  {
   "cell_type": "code",
   "execution_count": 3,
   "metadata": {
    "colab": {
     "base_uri": "https://localhost:8080/"
    },
    "id": "VuTjby5MzEre",
    "outputId": "63d6bbc7-621a-4a07-c0f9-efca38e8975e"
   },
   "outputs": [
    {
     "name": "stderr",
     "output_type": "stream",
     "text": [
      "YOLOv5 🚀 v6.0-187-gf3085ac torch 1.10.0+cu111 CUDA:0 (A100-SXM4-40GB, 40536MiB)\n"
     ]
    },
    {
     "name": "stdout",
     "output_type": "stream",
     "text": [
      "Setup complete ✅ (12 CPUs, 83.5 GB RAM, 42.1/166.8 GB disk)\n"
     ]
    }
   ],
   "source": [
    "!git clone https://github.com/ultralytics/yolov5\n",
    "%cd /content/yolov5\n",
    "%pip install -qr requirements.txt\n",
    "\n",
    "from yolov5 import utils\n",
    "display = utils.notebook_init()"
   ]
  },
  {
   "cell_type": "markdown",
   "metadata": {
    "id": "qYOvD3M7ofQl"
   },
   "source": [
    "### Running YOLOv5\n",
    "\n",
    "In addition to the command line execution we just saw, the YOLO library can easily integrate with Python applications.  The following code adds the downloaded YOLOv5 to Python's environment, allowing **yolov5** to be imported like a regular Python library."
   ]
  },
  {
   "cell_type": "code",
   "execution_count": 4,
   "metadata": {
    "id": "MY3gVyidmp-K"
   },
   "outputs": [],
   "source": [
    "import sys\n",
    "sys.path.append(str(\"/content/yolov5\"))\n",
    "\n",
    "import argparse\n",
    "import os\n",
    "from pathlib import Path\n",
    "\n",
    "import cv2\n",
    "import torch\n",
    "import torch.backends.cudnn as cudnn\n",
    "\n",
    "from models.common import DetectMultiBackend\n",
    "from utils.datasets import IMG_FORMATS, VID_FORMATS, LoadImages, LoadStreams\n",
    "from utils.general import (LOGGER, check_file, check_img_size, check_imshow, check_requirements, colorstr,\n",
    "                           increment_path, non_max_suppression, print_args, scale_coords, strip_optimizer, xyxy2xywh)\n",
    "from utils.plots import Annotator, colors, save_one_box\n",
    "from utils.torch_utils import select_device, time_sync\n",
    "\n",
    "from PIL import Image\n",
    "import requests\n",
    "from io import BytesIO\n",
    "import torchvision.transforms.functional as TF"
   ]
  },
  {
   "cell_type": "markdown",
   "metadata": {
    "id": "URXt2GjY8RBD"
   },
   "source": [
    "We are now ready to load YOLO, with pretrained weights provided by the creators of YOLO.  It is also possible to train YOLO to recognize images of your own."
   ]
  },
  {
   "cell_type": "code",
   "execution_count": 5,
   "metadata": {
    "colab": {
     "base_uri": "https://localhost:8080/"
    },
    "id": "LVCuZN2p7Yyy",
    "outputId": "11bffa5d-4362-495a-d7fe-723493e2b192"
   },
   "outputs": [
    {
     "name": "stderr",
     "output_type": "stream",
     "text": [
      "YOLOv5 🚀 v6.0-187-gf3085ac torch 1.10.0+cu111 CUDA:0 (A100-SXM4-40GB, 40536MiB)\n",
      "\n",
      "Fusing layers... \n",
      "Model Summary: 213 layers, 7225885 parameters, 0 gradients\n"
     ]
    }
   ],
   "source": [
    "device = select_device('')\n",
    "weights = '/content/yolov5/yolov5s.pt'\n",
    "model = DetectMultiBackend(weights, device=device, dnn=False)\n",
    "stride, names, pt, jit, onnx, engine = model.stride, model.names, model.pt, model.jit, model.onnx, model.engine"
   ]
  },
  {
   "cell_type": "markdown",
   "metadata": {
    "id": "sGbur-vdZWyz"
   },
   "source": [
    "I built the following function from the code presented in the course module. The function combines some of the code from the module to accept an image and return what YOLO recognizes. Make sure to use the same two thres_xxx values I provided below to match the results that I got."
   ]
  },
  {
   "cell_type": "code",
   "execution_count": 18,
   "metadata": {
    "id": "o_oqpylt9I_n"
   },
   "outputs": [],
   "source": [
    "import numpy as np\n",
    "\n",
    "half = False\n",
    "conf_thres=0.1  # confidence threshold (use this value)\n",
    "iou_thres=0.25  # NMS IOU threshold (use this value)\n",
    "classes = None\n",
    "agnostic_nms=False,  # class-agnostic NMS\n",
    "max_det=1000\n",
    "\n",
    "def process_yolo(img):\n",
    "  # Resize image, if needed\n",
    "  imgsz = [img.height, img.width]\n",
    "  imgsz = check_img_size(imgsz, s=stride)  # check image size\n",
    "  original_size = imgsz[:]\n",
    "\n",
    "  # Prepare model for this image\n",
    "  model.warmup(imgsz=(1, 3, *imgsz), half=half)  # warmup\n",
    "  dt, seen = [0.0, 0.0, 0.0], 0\n",
    "  img2 = img.resize([imgsz[1],imgsz[0]], Image.ANTIALIAS)\n",
    "      \n",
    "  # Preprocess image\n",
    "  img_raw = torch.from_numpy(np.asarray(img2)).to(device)\n",
    "  img_raw = img_raw.half() if half else img_raw.float()  # uint8 to fp16/32\n",
    "  img_raw /= 255  # 0 - 255 to 0.0 - 1.0\n",
    "  img_raw = img_raw.unsqueeze_(0)\n",
    "  img_raw = img_raw.permute(0, 3, 1, 2)\n",
    "\n",
    "  # Query YoLo\n",
    "  pred = model(img_raw, augment=False, visualize=False)\n",
    "  pred = non_max_suppression(pred, conf_thres, iou_thres, classes, agnostic_nms, max_det=max_det)\n",
    "\n",
    "  # convert these raw predictions into the bounding boxes, labels, and \n",
    "  # confidences for each of the images that YOLO recognized.\n",
    "  results = []\n",
    "  for i, det in enumerate(pred):  # per image\n",
    "    gn = torch.tensor(img_raw.shape)[[1, 0, 1, 0]]  \n",
    "\n",
    "    if len(det):\n",
    "        # Rescale boxes from img_size to im0 size\n",
    "        det[:, :4] = scale_coords(original_size, det[:, :4], imgsz).round()\n",
    "\n",
    "        # Write results\n",
    "        for *xyxy, conf, cls in reversed(det):\n",
    "          xywh = (xyxy2xywh(torch.tensor(xyxy).view(1, 4)) / gn).view(-1).tolist()\n",
    "          # Choose between xyxy and xywh as your desired format.\n",
    "          results.append([names[int(cls)], float(conf), [*xyxy]]) \n",
    "  return results"
   ]
  },
  {
   "cell_type": "markdown",
   "metadata": {
    "id": "lCy_pvDXqYv4"
   },
   "source": [
    "### Starter Code"
   ]
  },
  {
   "cell_type": "code",
   "execution_count": 7,
   "metadata": {
    "colab": {
     "base_uri": "https://localhost:8080/"
    },
    "id": "fAk8F8bFAPFA",
    "outputId": "61e147c9-a025-4e66-afd0-935af9eb4e62"
   },
   "outputs": [
    {
     "name": "stdout",
     "output_type": "stream",
     "text": [
      "WARNING: --img-size [856, 1590] must be multiple of max stride 32, updating to [864, 1600]\n",
      "['suitcase', 0.26384803652763367, [tensor(1140., device='cuda:0'), tensor(435., device='cuda:0'), tensor(1214., device='cuda:0'), tensor(502., device='cuda:0')]]\n",
      "['person', 0.2687147557735443, [tensor(1530., device='cuda:0'), tensor(321., device='cuda:0'), tensor(1546., device='cuda:0'), tensor(361., device='cuda:0')]]\n",
      "['person', 0.2705391049385071, [tensor(858., device='cuda:0'), tensor(522., device='cuda:0'), tensor(917., device='cuda:0'), tensor(626., device='cuda:0')]]\n",
      "['umbrella', 0.3001454770565033, [tensor(1545., device='cuda:0'), tensor(294., device='cuda:0'), tensor(1599., device='cuda:0'), tensor(319., device='cuda:0')]]\n",
      "['umbrella', 0.36170196533203125, [tensor(1474., device='cuda:0'), tensor(323., device='cuda:0'), tensor(1528., device='cuda:0'), tensor(353., device='cuda:0')]]\n",
      "['person', 0.3645065724849701, [tensor(843., device='cuda:0'), tensor(527., device='cuda:0'), tensor(866., device='cuda:0'), tensor(568., device='cuda:0')]]\n",
      "['person', 0.5860028266906738, [tensor(907., device='cuda:0'), tensor(554., device='cuda:0'), tensor(946., device='cuda:0'), tensor(643., device='cuda:0')]]\n",
      "['person', 0.6913285255432129, [tensor(1243., device='cuda:0'), tensor(665., device='cuda:0'), tensor(1287., device='cuda:0'), tensor(796., device='cuda:0')]]\n",
      "['person', 0.7069641947746277, [tensor(993., device='cuda:0'), tensor(517., device='cuda:0'), tensor(1036., device='cuda:0'), tensor(606., device='cuda:0')]]\n",
      "['person', 0.7391939163208008, [tensor(1064., device='cuda:0'), tensor(586., device='cuda:0'), tensor(1101., device='cuda:0'), tensor(695., device='cuda:0')]]\n"
     ]
    },
    {
     "name": "stderr",
     "output_type": "stream",
     "text": [
      "/usr/local/lib/python3.7/dist-packages/ipykernel_launcher.py:23: UserWarning: The given NumPy array is not writeable, and PyTorch does not support non-writeable tensors. This means you can write to the underlying (supposedly non-writeable) NumPy array using the tensor. You may want to copy the array to protect its data or make it writeable before converting it to a tensor. This type of warning will be suppressed for the rest of this program. (Triggered internally at  ../torch/csrc/utils/tensor_numpy.cpp:189.)\n"
     ]
    }
   ],
   "source": [
    "url = \"https://data.heatonresearch.com/data/t81-558/sidewalk/sidewalk1.jpg\"\n",
    "response = requests.get(url,headers={'User-Agent': 'Mozilla/5.0'})\n",
    "img = Image.open(BytesIO(response.content))\n",
    "results = process_yolo(img)\n",
    "\n",
    "for itm in results:\n",
    "  print(itm)"
   ]
  },
  {
   "cell_type": "code",
   "execution_count": null,
   "metadata": {
    "id": "SFmqHkLbYQVm"
   },
   "outputs": [],
   "source": [
    "# Add your solution here, put your results into submit_df\n",
    "\n",
    "# This is your student key that I emailed to you at the beginnning of the semester.\n",
    "key = \"5iuwhudihwiao6dsfw7dE2ml08iNfVOg6l0O3M06\"  # This is an example key and will not work.\n",
    "\n",
    "# You must also identify your source file.  (modify for your local setup)\n",
    "file='/content/drive/MyDrive/Colab Notebooks/assignment_yourname_class7.ipynb'  # Google CoLab\n",
    "\n",
    "submit_df.to_csv(\"/content/drive/MyDrive/7.csv\")\n",
    "submit(source_file=file,data=[submit_df],key=key,no=7)"
   ]
  }
 ],
 "metadata": {
  "accelerator": "GPU",
  "anaconda-cloud": {},
  "colab": {
   "collapsed_sections": [],
   "name": "assignment_7.ipynb",
   "provenance": []
  },
  "kernelspec": {
   "display_name": "Python 3.9 (tensorflow)",
   "language": "python",
   "name": "tensorflow"
  },
  "language_info": {
   "codemirror_mode": {
    "name": "ipython",
    "version": 3
   },
   "file_extension": ".py",
   "mimetype": "text/x-python",
   "name": "python",
   "nbconvert_exporter": "python",
   "pygments_lexer": "ipython3",
   "version": "3.9.7"
  }
 },
 "nbformat": 4,
 "nbformat_minor": 1
}
