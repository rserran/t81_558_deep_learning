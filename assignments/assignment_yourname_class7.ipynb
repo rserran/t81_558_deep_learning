{
  "cells": [
    {
      "cell_type": "markdown",
      "metadata": {
        "id": "XKzF6dMaiLyP"
      },
      "source": [
        "<a href=\"https://colab.research.google.com/github/jeffheaton/t81_558_deep_learning/blob/master/assignments/assignment_yourname_class7.ipynb\" target=\"_parent\"><img src=\"https://colab.research.google.com/assets/colab-badge.svg\" alt=\"Open In Colab\"/></a>"
      ]
    },
    {
      "cell_type": "markdown",
      "metadata": {
        "id": "YDTXd8-Lmp8Q"
      },
      "source": [
        "# T81-558: Applications of Deep Neural Networks\n",
        "* Instructor: [Jeff Heaton](https://sites.wustl.edu/jeffheaton/), School of Engineering and Applied Science, [Washington University in St. Louis](https://engineering.wustl.edu/Programs/Pages/default.aspx)\n",
        "* For more information visit the [class website](https://sites.wustl.edu/jeffheaton/t81-558/).\n",
        "\n",
        "**Module 7 Assignment: Computer Vision Neural Network**\n",
        "\n",
        "**Student Name: Your Name**"
      ]
    },
    {
      "cell_type": "markdown",
      "metadata": {
        "id": "ncNrAEpzmp8S"
      },
      "source": [
        "# Google CoLab Instructions\n",
        "\n",
        "This assignment will be most straightforward if you use Google CoLab, because it requires both PyTorch and YOLOv5 to be installed. It will be necessary to mount your GDrive so that you can send your notebook during the submit process. Running the following code will map your GDrive to ```/content/drive```."
      ]
    },
    {
      "cell_type": "code",
      "execution_count": null,
      "metadata": {
        "colab": {
          "base_uri": "https://localhost:8080/"
        },
        "id": "fU9UhAxTmp8S",
        "outputId": "6135296b-4fb1-4715-aab1-7f836049591f"
      },
      "outputs": [
        {
          "output_type": "stream",
          "name": "stdout",
          "text": [
            "Mounted at /content/drive\n",
            "Note: using Google CoLab\n"
          ]
        }
      ],
      "source": [
        "try:\n",
        "    from google.colab import drive\n",
        "    drive.mount('/content/drive', force_remount=True)\n",
        "    COLAB = True\n",
        "    print(\"Note: using Google CoLab\")\n",
        "except:\n",
        "    print(\"Note: not using Google CoLab\")\n",
        "    COLAB = False"
      ]
    },
    {
      "cell_type": "markdown",
      "metadata": {
        "id": "QSKZqD1Mmp-C"
      },
      "source": [
        "# Assignment Submit Function\n",
        "\n",
        "You will submit the 10 programming assignments electronically.  The following submit function can be used to do this.  My server will perform a basic check of each assignment and let you know if it sees any basic problems. \n",
        "\n",
        "**It is unlikely that should need to modify this function.**"
      ]
    },
    {
      "cell_type": "code",
      "execution_count": null,
      "metadata": {
        "id": "7F2MhA7bjag8"
      },
      "outputs": [],
      "source": [
        "import base64\n",
        "import os\n",
        "import numpy as np\n",
        "import pandas as pd\n",
        "import requests\n",
        "import PIL\n",
        "import PIL.Image\n",
        "import io\n",
        "\n",
        "# This function submits an assignment.  You can submit an assignment as much as you like, only the final\n",
        "# submission counts.  The paramaters are as follows:\n",
        "# data - List of pandas dataframes or images.\n",
        "# key - Your student key that was emailed to you.\n",
        "# no - The assignment class number, should be 1 through 1.\n",
        "# source_file - The full path to your Python or IPYNB file.  This must have \"_class1\" as part of its name.  \n",
        "# .             The number must match your assignment number.  For example \"_class2\" for class assignment #2.\n",
        "def submit(data,key,no,source_file=None):\n",
        "    if source_file is None and '__file__' not in globals(): raise Exception('Must specify a filename when a Jupyter notebook.')\n",
        "    if source_file is None: source_file = __file__\n",
        "    suffix = '_class{}'.format(no)\n",
        "    if suffix not in source_file: raise Exception('{} must be part of the filename.'.format(suffix))\n",
        "    with open(source_file, \"rb\") as image_file:\n",
        "        encoded_python = base64.b64encode(image_file.read()).decode('ascii')\n",
        "    ext = os.path.splitext(source_file)[-1].lower()\n",
        "    if ext not in ['.ipynb','.py']: raise Exception(\"Source file is {} must be .py or .ipynb\".format(ext))\n",
        "    payload = []\n",
        "    for item in data:\n",
        "        if type(item) is PIL.Image.Image:\n",
        "            buffered = BytesIO()\n",
        "            item.save(buffered, format=\"PNG\")\n",
        "            payload.append({'PNG':base64.b64encode(buffered.getvalue()).decode('ascii')})\n",
        "        elif type(item) is pd.core.frame.DataFrame:\n",
        "            payload.append({'CSV':base64.b64encode(item.to_csv(index=False).encode('ascii')).decode(\"ascii\")})\n",
        "    r= requests.post(\"https://api.heatonresearch.com/assignment-submit\",\n",
        "        headers={'x-api-key':key}, json={ 'payload': payload,'assignment': no, 'ext':ext, 'py':encoded_python})\n",
        "    if r.status_code==200:\n",
        "        print(\"Success: {}\".format(r.text))\n",
        "    else: print(\"Failure: {}\".format(r.text))"
      ]
    },
    {
      "cell_type": "markdown",
      "metadata": {
        "id": "8fJKkSenqklH"
      },
      "source": [
        "# Assignment Instructions\n",
        "\n",
        "For this assignment, you will use YOLO running on Google CoLab.  I suggest that you run this assignment on CoLab because the example code below is already setup to get you started with the correct versions of  YOLO on TensorFlow 2.0.\n",
        "\n",
        "For this assignment you are provided with 10 image files that contain 10 different webcam pictures taken at the [Venice Sidewalk Cafe](https://www.westland.net/beachcam/) a WebCam that has been in opration since 1996.  You can find the 10 images here:\n",
        "\n",
        "* https://data.heatonresearch.com/data/t81-558/sidewalk/sidewalk1.jpg\n",
        "* https://data.heatonresearch.com/data/t81-558/sidewalk/sidewalk2.jpg\n",
        "* https://data.heatonresearch.com/data/t81-558/sidewalk/sidewalk3.jpg\n",
        "* https://data.heatonresearch.com/data/t81-558/sidewalk/sidewalk4.jpg\n",
        "* https://data.heatonresearch.com/data/t81-558/sidewalk/sidewalk5.jpg\n",
        "* https://data.heatonresearch.com/data/t81-558/sidewalk/sidewalk6.jpg\n",
        "* https://data.heatonresearch.com/data/t81-558/sidewalk/sidewalk7.jpg\n",
        "* https://data.heatonresearch.com/data/t81-558/sidewalk/sidewalk8.jpg\n",
        "* https://data.heatonresearch.com/data/t81-558/sidewalk/sidewalk9.jpg\n",
        "* https://data.heatonresearch.com/data/t81-558/sidewalk/sidewalk10.jpg\n",
        "\n",
        "You can see a sample of the WebCam here:\n",
        "\n",
        "![alt text](https://data.heatonresearch.com/data/t81-558/sidewalk/sidewalk1.jpg)\n",
        "\n",
        "YOLO does quite well-recognizing objects in this webcam, as the following image illustrates.\n",
        "\n",
        "![alt text](https://data.heatonresearch.com/data/t81-558/sidewalk/predictions.jpg)\n",
        "\n",
        "You are to write a script that counts the number of certain objects in each of the images.  Specifically, you are looking for:\n",
        "\n",
        "* person\n",
        "* car\n",
        "* bicycle\n",
        "* motorbike\n",
        "* umbrella\n",
        "* handbag\n",
        "\n",
        "It is essential that your use YOLO with a threshold of 10% if you want your results to match mine. The sample code below already contains this setting.  Your program can set this threshold with the following command.\n",
        "\n",
        "* conf_thres=0.1  # confidence threshold (use this value)\n",
        "* iou_thres=0.25  # NMS IOU threshold (use this value)\n",
        "\n",
        "Your submitted data frame should also contain a column that identifies which image generated each row.  This column should be named **image** and contain integer numbers between 1 and 10.  There should be 10 rows in total.  The complete data frame should look something like this (not necessarily exactly these numbers).\n",
        "\n",
        "|image|person|car|bicycle|motorbike|umbrella|handbag|\n",
        "|-|-|-|-|-|-|-|\n",
        "|1|23|0|3|4|0|0|\n",
        "|2|27|1|8|2|0|0|\n",
        "|3|29|0|0|0|3|0|\n",
        "|...|...|...|...|...|...|...|\n",
        "\n",
        "\n",
        "The following code sets up YOLO and then dumps the classification information for the first image.  This notebook only serves to get you started.  Read in all ten images and generate a data frame that looks like the following. Use the **submit** function as you did in previous assignments."
      ]
    },
    {
      "cell_type": "markdown",
      "metadata": {
        "id": "Ym5_juokofQl"
      },
      "source": [
        "### Installing YOLOv5\n",
        "\n",
        "YOLO is not available directly through either PIP or CONDA.  Additionally, YOLO is not installed in Google CoLab by default. Therefore, whether you wish to use YOLO through CoLab or run it locally, you need to go through several steps to install it.  This section describes the process of installing YOLO.  The same steps apply to either CoLab or a local install.  For CoLab, you must repeat these steps each time the system restarts your virtual environment.  You must perform these steps only once for your virtual Python environment for a local install.  If you are installing locally, make sure to install to the same virtual environment you created for this course.  The following commands install YOLO directly from its GitHub repository."
      ]
    },
    {
      "cell_type": "code",
      "execution_count": 1,
      "metadata": {
        "colab": {
          "base_uri": "https://localhost:8080/"
        },
        "id": "VuTjby5MzEre",
        "outputId": "ff3ffa76-3f5c-4b9c-80e0-49d174cffa1c"
      },
      "outputs": [
        {
          "output_type": "stream",
          "name": "stderr",
          "text": [
            "YOLOv5 🚀 v6.1-39-g4effd06 torch 1.10.0+cu111 CUDA:0 (Tesla V100-SXM2-16GB, 16160MiB)\n"
          ]
        },
        {
          "output_type": "stream",
          "name": "stdout",
          "text": [
            "Setup complete ✅ (2 CPUs, 12.7 GB RAM, 39.9/166.8 GB disk)\n"
          ]
        }
      ],
      "source": [
        "!git clone https://github.com/ultralytics/yolov5 --tag 6.1\n",
        "!mv /content/6.1 /content/yolov5\n",
        "%cd /content/yolov5\n",
        "%pip install -qr requirements.txt\n",
        "\n",
        "from yolov5 import utils\n",
        "display = utils.notebook_init()"
      ]
    },
    {
      "cell_type": "markdown",
      "metadata": {
        "id": "qYOvD3M7ofQl"
      },
      "source": [
        "### Running YOLOv5\n",
        "\n",
        "In addition to the command line execution we just saw, the YOLO library can easily integrate with Python applications.  The following code adds the downloaded YOLOv5 to Python's environment, allowing **yolov5** to be imported like a regular Python library."
      ]
    },
    {
      "cell_type": "code",
      "execution_count": 2,
      "metadata": {
        "id": "MY3gVyidmp-K",
        "colab": {
          "base_uri": "https://localhost:8080/"
        },
        "outputId": "a45a983d-fa7c-4b63-f998-16ddadd7e960"
      },
      "outputs": [
        {
          "output_type": "stream",
          "name": "stderr",
          "text": [
            "Downloading https://ultralytics.com/assets/Arial.ttf to /root/.config/Ultralytics/Arial.ttf...\n"
          ]
        }
      ],
      "source": [
        "import sys\n",
        "sys.path.append(str(\"/content/yolov5\"))\n",
        "\n",
        "import argparse\n",
        "import os\n",
        "from pathlib import Path\n",
        "\n",
        "import cv2\n",
        "import torch\n",
        "import torch.backends.cudnn as cudnn\n",
        "\n",
        "from models.common import DetectMultiBackend\n",
        "from utils.datasets import IMG_FORMATS, VID_FORMATS, LoadImages, LoadStreams\n",
        "from utils.general import (LOGGER, check_file, check_img_size, check_imshow, check_requirements, colorstr,\n",
        "                           increment_path, non_max_suppression, print_args, scale_coords, strip_optimizer, xyxy2xywh)\n",
        "from utils.plots import Annotator, colors, save_one_box\n",
        "from utils.torch_utils import select_device, time_sync\n",
        "\n",
        "from PIL import Image\n",
        "import requests\n",
        "from io import BytesIO\n",
        "import torchvision.transforms.functional as TF"
      ]
    },
    {
      "cell_type": "markdown",
      "metadata": {
        "id": "URXt2GjY8RBD"
      },
      "source": [
        "We are now ready to load YOLO, with pretrained weights provided by the creators of YOLO.  It is also possible to train YOLO to recognize images of your own."
      ]
    },
    {
      "cell_type": "code",
      "execution_count": 3,
      "metadata": {
        "colab": {
          "base_uri": "https://localhost:8080/",
          "height": 156,
          "referenced_widgets": [
            "b2f14e1202e1456bbe01643a0bbe9d09",
            "ff452c17105f4a4391c347d2594044bd",
            "269e89941dff4dccb3e6bff30c91469f",
            "ebf003780bf1491888da1de7109bd1b6",
            "ef6fba6973f4421c97f6755b0aeaf01b",
            "8330b2ab7a9440f299c5c94114237659",
            "d4f30b5448794e5399c252c3ce059381",
            "23892b66cccc4806bcfcab6abf4eb670",
            "e4a071b8f94843d7a0dca071ca1bb463",
            "7166de089db24bfb9f550f78e2c41c01",
            "b20686f26e954564b2b7acb310e14194"
          ]
        },
        "id": "LVCuZN2p7Yyy",
        "outputId": "66c3f549-66ac-48a2-bc89-a031a29f8109"
      },
      "outputs": [
        {
          "output_type": "stream",
          "name": "stderr",
          "text": [
            "YOLOv5 🚀 v6.1-39-g4effd06 torch 1.10.0+cu111 CUDA:0 (Tesla V100-SXM2-16GB, 16160MiB)\n",
            "\n"
          ]
        },
        {
          "output_type": "stream",
          "name": "stdout",
          "text": [
            "Downloading https://github.com/ultralytics/yolov5/releases/download/v6.1/yolov5s.pt to /content/yolov5/yolov5s.pt...\n"
          ]
        },
        {
          "output_type": "display_data",
          "data": {
            "text/plain": [
              "  0%|          | 0.00/14.1M [00:00<?, ?B/s]"
            ],
            "application/vnd.jupyter.widget-view+json": {
              "version_major": 2,
              "version_minor": 0,
              "model_id": "b2f14e1202e1456bbe01643a0bbe9d09"
            }
          },
          "metadata": {}
        },
        {
          "output_type": "stream",
          "name": "stdout",
          "text": [
            "\n"
          ]
        },
        {
          "output_type": "stream",
          "name": "stderr",
          "text": [
            "Fusing layers... \n",
            "Model Summary: 213 layers, 7225885 parameters, 0 gradients, 16.5 GFLOPs\n"
          ]
        }
      ],
      "source": [
        "device = select_device('')\n",
        "weights = '/content/yolov5/yolov5s.pt'\n",
        "model = DetectMultiBackend(weights, device=device, dnn=False)\n",
        "stride, names, pt, jit, onnx, engine = model.stride, model.names, model.pt, model.jit, model.onnx, model.engine"
      ]
    },
    {
      "cell_type": "markdown",
      "metadata": {
        "id": "sGbur-vdZWyz"
      },
      "source": [
        "I built the following function from the code presented in the course module. The function combines some of the code from the module to accept an image and return what YOLO recognizes. Make sure to use the same two thres_xxx values I provided below to match the results that I got."
      ]
    },
    {
      "cell_type": "code",
      "execution_count": 4,
      "metadata": {
        "id": "o_oqpylt9I_n"
      },
      "outputs": [],
      "source": [
        "import numpy as np\n",
        "\n",
        "conf_thres=0.1  # confidence threshold (use this value)\n",
        "iou_thres=0.25  # NMS IOU threshold (use this value)\n",
        "classes = None\n",
        "agnostic_nms=False,  # class-agnostic NMS\n",
        "max_det=1000\n",
        "\n",
        "def process_yolo(img):\n",
        "  # Resize image, if needed\n",
        "  imgsz = [img.height, img.width]\n",
        "  imgsz = check_img_size(imgsz, s=stride)  # check image size\n",
        "  original_size = imgsz[:]\n",
        "\n",
        "  # Prepare model for this image\n",
        "  model.warmup(imgsz=(1, 3, *imgsz))  # warmup\n",
        "  dt, seen = [0.0, 0.0, 0.0], 0\n",
        "  img2 = img.resize([imgsz[1],imgsz[0]], Image.ANTIALIAS)\n",
        "      \n",
        "  # Preprocess image\n",
        "  img_raw = torch.from_numpy(np.asarray(img2)).to(device)\n",
        "  img_raw = img_raw.float()  # uint8 to fp16/32\n",
        "  img_raw /= 255  # 0 - 255 to 0.0 - 1.0\n",
        "  img_raw = img_raw.unsqueeze_(0)\n",
        "  img_raw = img_raw.permute(0, 3, 1, 2)\n",
        "\n",
        "  # Query YoLo\n",
        "  pred = model(img_raw, augment=False, visualize=False)\n",
        "  pred = non_max_suppression(pred, conf_thres, iou_thres, classes, agnostic_nms, max_det=max_det)\n",
        "\n",
        "  # convert these raw predictions into the bounding boxes, labels, and \n",
        "  # confidences for each of the images that YOLO recognized.\n",
        "  results = []\n",
        "  for i, det in enumerate(pred):  # per image\n",
        "    gn = torch.tensor(img_raw.shape)[[1, 0, 1, 0]]  \n",
        "\n",
        "    if len(det):\n",
        "        # Rescale boxes from img_size to im0 size\n",
        "        det[:, :4] = scale_coords(original_size, det[:, :4], imgsz).round()\n",
        "\n",
        "        # Write results\n",
        "        for *xyxy, conf, cls in reversed(det):\n",
        "          xywh = (xyxy2xywh(torch.tensor(xyxy).view(1, 4)) / gn).view(-1).tolist()\n",
        "          # Choose between xyxy and xywh as your desired format.\n",
        "          results.append([names[int(cls)], float(conf), [*xyxy]]) \n",
        "  return results"
      ]
    },
    {
      "cell_type": "markdown",
      "metadata": {
        "id": "lCy_pvDXqYv4"
      },
      "source": [
        "### Starter Code"
      ]
    },
    {
      "cell_type": "code",
      "execution_count": 5,
      "metadata": {
        "colab": {
          "base_uri": "https://localhost:8080/"
        },
        "id": "fAk8F8bFAPFA",
        "outputId": "46fa50df-ce0c-43c3-f01e-76ad55ef8fbf"
      },
      "outputs": [
        {
          "output_type": "stream",
          "name": "stderr",
          "text": [
            "WARNING: --img-size [856, 1590] must be multiple of max stride 32, updating to [864, 1600]\n",
            "/usr/local/lib/python3.7/dist-packages/ipykernel_launcher.py:21: UserWarning: The given NumPy array is not writeable, and PyTorch does not support non-writeable tensors. This means you can write to the underlying (supposedly non-writeable) NumPy array using the tensor. You may want to copy the array to protect its data or make it writeable before converting it to a tensor. This type of warning will be suppressed for the rest of this program. (Triggered internally at  ../torch/csrc/utils/tensor_numpy.cpp:189.)\n"
          ]
        },
        {
          "output_type": "stream",
          "name": "stdout",
          "text": [
            "['person', 0.12339754402637482, [tensor(1453., device='cuda:0'), tensor(340., device='cuda:0'), tensor(1467., device='cuda:0'), tensor(365., device='cuda:0')]]\n",
            "['car', 0.12614892423152924, [tensor(1407., device='cuda:0'), tensor(272., device='cuda:0'), tensor(1437., device='cuda:0'), tensor(289., device='cuda:0')]]\n",
            "['umbrella', 0.13311439752578735, [tensor(1., device='cuda:0'), tensor(620., device='cuda:0'), tensor(304., device='cuda:0'), tensor(844., device='cuda:0')]]\n",
            "['traffic light', 0.13500753045082092, [tensor(612., device='cuda:0'), tensor(22., device='cuda:0'), tensor(662., device='cuda:0'), tensor(187., device='cuda:0')]]\n",
            "['person', 0.1567281186580658, [tensor(1303., device='cuda:0'), tensor(396., device='cuda:0'), tensor(1318., device='cuda:0'), tensor(430., device='cuda:0')]]\n",
            "['snowboard', 0.1590387523174286, [tensor(1225., device='cuda:0'), tensor(788., device='cuda:0'), tensor(1266., device='cuda:0'), tensor(810., device='cuda:0')]]\n",
            "['person', 0.1702433079481125, [tensor(635., device='cuda:0'), tensor(630., device='cuda:0'), tensor(770., device='cuda:0'), tensor(742., device='cuda:0')]]\n",
            "['person', 0.1718081682920456, [tensor(855., device='cuda:0'), tensor(520., device='cuda:0'), tensor(920., device='cuda:0'), tensor(622., device='cuda:0')]]\n",
            "['person', 0.18123219907283783, [tensor(637., device='cuda:0'), tensor(454., device='cuda:0'), tensor(694., device='cuda:0'), tensor(539., device='cuda:0')]]\n",
            "['umbrella', 0.1906040608882904, [tensor(1542., device='cuda:0'), tensor(296., device='cuda:0'), tensor(1596., device='cuda:0'), tensor(316., device='cuda:0')]]\n",
            "['snowboard', 0.20119035243988037, [tensor(973., device='cuda:0'), tensor(688., device='cuda:0'), tensor(1018., device='cuda:0'), tensor(731., device='cuda:0')]]\n",
            "['person', 0.2015305906534195, [tensor(1198., device='cuda:0'), tensor(725., device='cuda:0'), tensor(1263., device='cuda:0'), tensor(799., device='cuda:0')]]\n",
            "['person', 0.2715543508529663, [tensor(939., device='cuda:0'), tensor(539., device='cuda:0'), tensor(976., device='cuda:0'), tensor(596., device='cuda:0')]]\n",
            "['motorcycle', 0.284743070602417, [tensor(804., device='cuda:0'), tensor(564., device='cuda:0'), tensor(889., device='cuda:0'), tensor(625., device='cuda:0')]]\n",
            "['boat', 0.2900095283985138, [tensor(1474., device='cuda:0'), tensor(322., device='cuda:0'), tensor(1540., device='cuda:0'), tensor(365., device='cuda:0')]]\n",
            "['person', 0.33441171050071716, [tensor(969., device='cuda:0'), tensor(602., device='cuda:0'), tensor(1014., device='cuda:0'), tensor(702., device='cuda:0')]]\n",
            "['person', 0.3420495390892029, [tensor(1367., device='cuda:0'), tensor(383., device='cuda:0'), tensor(1392., device='cuda:0'), tensor(438., device='cuda:0')]]\n",
            "['boat', 0.3724002540111542, [tensor(1538., device='cuda:0'), tensor(295., device='cuda:0'), tensor(1600., device='cuda:0'), tensor(367., device='cuda:0')]]\n",
            "['person', 0.3827263116836548, [tensor(842., device='cuda:0'), tensor(528., device='cuda:0'), tensor(866., device='cuda:0'), tensor(568., device='cuda:0')]]\n",
            "['person', 0.44722503423690796, [tensor(1531., device='cuda:0'), tensor(323., device='cuda:0'), tensor(1546., device='cuda:0'), tensor(363., device='cuda:0')]]\n",
            "['person', 0.6276914477348328, [tensor(907., device='cuda:0'), tensor(554., device='cuda:0'), tensor(945., device='cuda:0'), tensor(644., device='cuda:0')]]\n",
            "['person', 0.6278491616249084, [tensor(995., device='cuda:0'), tensor(515., device='cuda:0'), tensor(1036., device='cuda:0'), tensor(603., device='cuda:0')]]\n",
            "['person', 0.673707902431488, [tensor(1242., device='cuda:0'), tensor(668., device='cuda:0'), tensor(1288., device='cuda:0'), tensor(794., device='cuda:0')]]\n",
            "['person', 0.7774140238761902, [tensor(1062., device='cuda:0'), tensor(586., device='cuda:0'), tensor(1102., device='cuda:0'), tensor(693., device='cuda:0')]]\n"
          ]
        }
      ],
      "source": [
        "url = \"https://data.heatonresearch.com/data/t81-558/sidewalk/sidewalk1.jpg\"\n",
        "response = requests.get(url,headers={'User-Agent': 'Mozilla/5.0'})\n",
        "img = Image.open(BytesIO(response.content))\n",
        "results = process_yolo(img)\n",
        "\n",
        "for itm in results:\n",
        "  print(itm)"
      ]
    },
    {
      "cell_type": "code",
      "execution_count": null,
      "metadata": {
        "id": "SFmqHkLbYQVm"
      },
      "outputs": [],
      "source": [
        "# Add your solution here, put your results into submit_df\n",
        "\n",
        "# This is your student key that I emailed to you at the beginnning of the semester.\n",
        "key = \"5iuwhudihwiao6dsfw7dE2ml08iNfVOg6l0O3M06\"  # This is an example key and will not work.\n",
        "\n",
        "# You must also identify your source file.  (modify for your local setup)\n",
        "file='/content/drive/MyDrive/Colab Notebooks/assignment_yourname_class7.ipynb'  # Google CoLab\n",
        "\n",
        "submit_df.to_csv(\"/content/drive/MyDrive/7.csv\")\n",
        "submit(source_file=file,data=[submit_df],key=key,no=7)"
      ]
    }
  ],
  "metadata": {
    "accelerator": "GPU",
    "anaconda-cloud": {},
    "colab": {
      "collapsed_sections": [],
      "name": "Copy of assignment_7.ipynb",
      "provenance": []
    },
    "kernelspec": {
      "display_name": "Python 3.9 (tensorflow)",
      "language": "python",
      "name": "tensorflow"
    },
    "language_info": {
      "codemirror_mode": {
        "name": "ipython",
        "version": 3
      },
      "file_extension": ".py",
      "mimetype": "text/x-python",
      "name": "python",
      "nbconvert_exporter": "python",
      "pygments_lexer": "ipython3",
      "version": "3.9.7"
    },
    "widgets": {
      "application/vnd.jupyter.widget-state+json": {
        "b2f14e1202e1456bbe01643a0bbe9d09": {
          "model_module": "@jupyter-widgets/controls",
          "model_name": "HBoxModel",
          "model_module_version": "1.5.0",
          "state": {
            "_dom_classes": [],
            "_model_module": "@jupyter-widgets/controls",
            "_model_module_version": "1.5.0",
            "_model_name": "HBoxModel",
            "_view_count": null,
            "_view_module": "@jupyter-widgets/controls",
            "_view_module_version": "1.5.0",
            "_view_name": "HBoxView",
            "box_style": "",
            "children": [
              "IPY_MODEL_ff452c17105f4a4391c347d2594044bd",
              "IPY_MODEL_269e89941dff4dccb3e6bff30c91469f",
              "IPY_MODEL_ebf003780bf1491888da1de7109bd1b6"
            ],
            "layout": "IPY_MODEL_ef6fba6973f4421c97f6755b0aeaf01b"
          }
        },
        "ff452c17105f4a4391c347d2594044bd": {
          "model_module": "@jupyter-widgets/controls",
          "model_name": "HTMLModel",
          "model_module_version": "1.5.0",
          "state": {
            "_dom_classes": [],
            "_model_module": "@jupyter-widgets/controls",
            "_model_module_version": "1.5.0",
            "_model_name": "HTMLModel",
            "_view_count": null,
            "_view_module": "@jupyter-widgets/controls",
            "_view_module_version": "1.5.0",
            "_view_name": "HTMLView",
            "description": "",
            "description_tooltip": null,
            "layout": "IPY_MODEL_8330b2ab7a9440f299c5c94114237659",
            "placeholder": "​",
            "style": "IPY_MODEL_d4f30b5448794e5399c252c3ce059381",
            "value": "100%"
          }
        },
        "269e89941dff4dccb3e6bff30c91469f": {
          "model_module": "@jupyter-widgets/controls",
          "model_name": "FloatProgressModel",
          "model_module_version": "1.5.0",
          "state": {
            "_dom_classes": [],
            "_model_module": "@jupyter-widgets/controls",
            "_model_module_version": "1.5.0",
            "_model_name": "FloatProgressModel",
            "_view_count": null,
            "_view_module": "@jupyter-widgets/controls",
            "_view_module_version": "1.5.0",
            "_view_name": "ProgressView",
            "bar_style": "success",
            "description": "",
            "description_tooltip": null,
            "layout": "IPY_MODEL_23892b66cccc4806bcfcab6abf4eb670",
            "max": 14808437,
            "min": 0,
            "orientation": "horizontal",
            "style": "IPY_MODEL_e4a071b8f94843d7a0dca071ca1bb463",
            "value": 14808437
          }
        },
        "ebf003780bf1491888da1de7109bd1b6": {
          "model_module": "@jupyter-widgets/controls",
          "model_name": "HTMLModel",
          "model_module_version": "1.5.0",
          "state": {
            "_dom_classes": [],
            "_model_module": "@jupyter-widgets/controls",
            "_model_module_version": "1.5.0",
            "_model_name": "HTMLModel",
            "_view_count": null,
            "_view_module": "@jupyter-widgets/controls",
            "_view_module_version": "1.5.0",
            "_view_name": "HTMLView",
            "description": "",
            "description_tooltip": null,
            "layout": "IPY_MODEL_7166de089db24bfb9f550f78e2c41c01",
            "placeholder": "​",
            "style": "IPY_MODEL_b20686f26e954564b2b7acb310e14194",
            "value": " 14.1M/14.1M [00:00&lt;00:00, 13.1MB/s]"
          }
        },
        "ef6fba6973f4421c97f6755b0aeaf01b": {
          "model_module": "@jupyter-widgets/base",
          "model_name": "LayoutModel",
          "model_module_version": "1.2.0",
          "state": {
            "_model_module": "@jupyter-widgets/base",
            "_model_module_version": "1.2.0",
            "_model_name": "LayoutModel",
            "_view_count": null,
            "_view_module": "@jupyter-widgets/base",
            "_view_module_version": "1.2.0",
            "_view_name": "LayoutView",
            "align_content": null,
            "align_items": null,
            "align_self": null,
            "border": null,
            "bottom": null,
            "display": null,
            "flex": null,
            "flex_flow": null,
            "grid_area": null,
            "grid_auto_columns": null,
            "grid_auto_flow": null,
            "grid_auto_rows": null,
            "grid_column": null,
            "grid_gap": null,
            "grid_row": null,
            "grid_template_areas": null,
            "grid_template_columns": null,
            "grid_template_rows": null,
            "height": null,
            "justify_content": null,
            "justify_items": null,
            "left": null,
            "margin": null,
            "max_height": null,
            "max_width": null,
            "min_height": null,
            "min_width": null,
            "object_fit": null,
            "object_position": null,
            "order": null,
            "overflow": null,
            "overflow_x": null,
            "overflow_y": null,
            "padding": null,
            "right": null,
            "top": null,
            "visibility": null,
            "width": null
          }
        },
        "8330b2ab7a9440f299c5c94114237659": {
          "model_module": "@jupyter-widgets/base",
          "model_name": "LayoutModel",
          "model_module_version": "1.2.0",
          "state": {
            "_model_module": "@jupyter-widgets/base",
            "_model_module_version": "1.2.0",
            "_model_name": "LayoutModel",
            "_view_count": null,
            "_view_module": "@jupyter-widgets/base",
            "_view_module_version": "1.2.0",
            "_view_name": "LayoutView",
            "align_content": null,
            "align_items": null,
            "align_self": null,
            "border": null,
            "bottom": null,
            "display": null,
            "flex": null,
            "flex_flow": null,
            "grid_area": null,
            "grid_auto_columns": null,
            "grid_auto_flow": null,
            "grid_auto_rows": null,
            "grid_column": null,
            "grid_gap": null,
            "grid_row": null,
            "grid_template_areas": null,
            "grid_template_columns": null,
            "grid_template_rows": null,
            "height": null,
            "justify_content": null,
            "justify_items": null,
            "left": null,
            "margin": null,
            "max_height": null,
            "max_width": null,
            "min_height": null,
            "min_width": null,
            "object_fit": null,
            "object_position": null,
            "order": null,
            "overflow": null,
            "overflow_x": null,
            "overflow_y": null,
            "padding": null,
            "right": null,
            "top": null,
            "visibility": null,
            "width": null
          }
        },
        "d4f30b5448794e5399c252c3ce059381": {
          "model_module": "@jupyter-widgets/controls",
          "model_name": "DescriptionStyleModel",
          "model_module_version": "1.5.0",
          "state": {
            "_model_module": "@jupyter-widgets/controls",
            "_model_module_version": "1.5.0",
            "_model_name": "DescriptionStyleModel",
            "_view_count": null,
            "_view_module": "@jupyter-widgets/base",
            "_view_module_version": "1.2.0",
            "_view_name": "StyleView",
            "description_width": ""
          }
        },
        "23892b66cccc4806bcfcab6abf4eb670": {
          "model_module": "@jupyter-widgets/base",
          "model_name": "LayoutModel",
          "model_module_version": "1.2.0",
          "state": {
            "_model_module": "@jupyter-widgets/base",
            "_model_module_version": "1.2.0",
            "_model_name": "LayoutModel",
            "_view_count": null,
            "_view_module": "@jupyter-widgets/base",
            "_view_module_version": "1.2.0",
            "_view_name": "LayoutView",
            "align_content": null,
            "align_items": null,
            "align_self": null,
            "border": null,
            "bottom": null,
            "display": null,
            "flex": null,
            "flex_flow": null,
            "grid_area": null,
            "grid_auto_columns": null,
            "grid_auto_flow": null,
            "grid_auto_rows": null,
            "grid_column": null,
            "grid_gap": null,
            "grid_row": null,
            "grid_template_areas": null,
            "grid_template_columns": null,
            "grid_template_rows": null,
            "height": null,
            "justify_content": null,
            "justify_items": null,
            "left": null,
            "margin": null,
            "max_height": null,
            "max_width": null,
            "min_height": null,
            "min_width": null,
            "object_fit": null,
            "object_position": null,
            "order": null,
            "overflow": null,
            "overflow_x": null,
            "overflow_y": null,
            "padding": null,
            "right": null,
            "top": null,
            "visibility": null,
            "width": null
          }
        },
        "e4a071b8f94843d7a0dca071ca1bb463": {
          "model_module": "@jupyter-widgets/controls",
          "model_name": "ProgressStyleModel",
          "model_module_version": "1.5.0",
          "state": {
            "_model_module": "@jupyter-widgets/controls",
            "_model_module_version": "1.5.0",
            "_model_name": "ProgressStyleModel",
            "_view_count": null,
            "_view_module": "@jupyter-widgets/base",
            "_view_module_version": "1.2.0",
            "_view_name": "StyleView",
            "bar_color": null,
            "description_width": ""
          }
        },
        "7166de089db24bfb9f550f78e2c41c01": {
          "model_module": "@jupyter-widgets/base",
          "model_name": "LayoutModel",
          "model_module_version": "1.2.0",
          "state": {
            "_model_module": "@jupyter-widgets/base",
            "_model_module_version": "1.2.0",
            "_model_name": "LayoutModel",
            "_view_count": null,
            "_view_module": "@jupyter-widgets/base",
            "_view_module_version": "1.2.0",
            "_view_name": "LayoutView",
            "align_content": null,
            "align_items": null,
            "align_self": null,
            "border": null,
            "bottom": null,
            "display": null,
            "flex": null,
            "flex_flow": null,
            "grid_area": null,
            "grid_auto_columns": null,
            "grid_auto_flow": null,
            "grid_auto_rows": null,
            "grid_column": null,
            "grid_gap": null,
            "grid_row": null,
            "grid_template_areas": null,
            "grid_template_columns": null,
            "grid_template_rows": null,
            "height": null,
            "justify_content": null,
            "justify_items": null,
            "left": null,
            "margin": null,
            "max_height": null,
            "max_width": null,
            "min_height": null,
            "min_width": null,
            "object_fit": null,
            "object_position": null,
            "order": null,
            "overflow": null,
            "overflow_x": null,
            "overflow_y": null,
            "padding": null,
            "right": null,
            "top": null,
            "visibility": null,
            "width": null
          }
        },
        "b20686f26e954564b2b7acb310e14194": {
          "model_module": "@jupyter-widgets/controls",
          "model_name": "DescriptionStyleModel",
          "model_module_version": "1.5.0",
          "state": {
            "_model_module": "@jupyter-widgets/controls",
            "_model_module_version": "1.5.0",
            "_model_name": "DescriptionStyleModel",
            "_view_count": null,
            "_view_module": "@jupyter-widgets/base",
            "_view_module_version": "1.2.0",
            "_view_name": "StyleView",
            "description_width": ""
          }
        }
      }
    }
  },
  "nbformat": 4,
  "nbformat_minor": 0
}